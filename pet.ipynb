{
 "cells": [
  {
   "cell_type": "markdown",
   "metadata": {},
   "source": [
    "# Helping Homeless Pets to be Adapted Sooner"
   ]
  },
  {
   "cell_type": "markdown",
   "metadata": {},
   "source": [
    "## 1. The Task \n",
    "In this research would use hybrid data (image, text and structured data) collected by a pet adoption website to predict how fast a pet would be adopted.\n",
    "\n",
    "Link to the Kaggle competition: https://www.kaggle.com/c/petfinder-adoption-prediction/"
   ]
  },
  {
   "cell_type": "markdown",
   "metadata": {},
   "source": [
    "## 2. The Plan\n",
    "### The Target column needs same treatment: Up sampling some categories\n",
    "\n",
    "### Several new features could be created (would be used as structured data) \n",
    "\n",
    "\n",
    "1. Create 2 features: \"desc_lang\" based on the language of \"Description\": \"desc_eng\" which contains descriptions translated into English if they are in other languages.\n",
    "\n",
    "\n",
    "2. Create 1 feature \"sent_score\" base on data in train_sentiment folder, which contails json files of results produced by Google's Natural Language API on each \"Description\".\n",
    "\n",
    "\n",
    "3. Create 3 features based on \"Name\": \n",
    "\n",
    "   1) \"name_lang\": optional, language of the name. \n",
    "\n",
    "   2) \"name_freq\", we create the feature assuming that if the Name of the pets are more popular, would the pets be adapted sooner. \n",
    "   \n",
    "\n",
    "### Multi-layer stacking techniques would be applied, it may include\n",
    "1. One model based on Description (text) vs Target\n",
    "\n",
    "   The Description column would have 2 data preparation procedures: \n",
    "   \n",
    "   1) Language detection; \n",
    "   \n",
    "   2) To translate non-English descriptions into English.\n",
    "   \n",
    "\n",
    "2. One model based on Image (image) vs Target\n",
    "\n",
    "\n",
    "3. One/several models based on structured data vs Target combining with the above mentioned 2 models\n"
   ]
  },
  {
   "cell_type": "markdown",
   "metadata": {},
   "source": [
    "## 3. Data Preparation\n",
    "\n",
    "3.1. Change data type, investigate Target column and missing value (Not finished)\n",
    "\n",
    "3.2 Treatment of \"Description\" (Text) Feature, Create 2 Features \"desc_lang\" and \"desc_eng\"\n",
    "\n",
    "3.2.1 Description's treatment 1: replace null and \" \" with \"na\"\n",
    "\n",
    "3.2.2 Description's treatment 2: language detection\n",
    "\n",
    "3.2.3 Description's treatment 3: Translate non English into English, save to \"lang_eng\" (Not Done)\n",
    "\n",
    "3.2.4 Description's treatment 4: text cleaning\n",
    "\n",
    "3.3 Created \"sent_score\" base on data in train_sentiment folder (Not Done)\n",
    "\n",
    "3.4 Treatment of \"Name\" (Text) Feature and creating 3 new features (Not Done)\n",
    "\n",
    "3.4.1 Name treatment 1: Change \"No name\" \"no name yet\", \"unknown\", missing value to \"no specific name\" (Not Done)\n",
    "\n",
    "3.4.2 Name treatment 2: language detection and creating 1 feature \"name_lang\"\n",
    "\n",
    "3.4.3 Name treatment 3:  Removing punctuation, to lower case and creating 1 feature \"name_freq\" (Not Done)\n",
    "\n",
    "3.5 Create 1 feature \"video_binary\" based on whether there is video or not (Not Done)\n",
    "\n",
    "3.6 Create 1 feature \"quantity_one_binary\" based on whether the quantity is one or not (Not Done)"
   ]
  },
  {
   "cell_type": "markdown",
   "metadata": {},
   "source": [
    "## 3.1. Change data type, investigate Target column and missing value"
   ]
  },
  {
   "cell_type": "code",
   "execution_count": 237,
   "metadata": {},
   "outputs": [],
   "source": [
    "import pandas as pd\n",
    "import numpy as np\n",
    "from langdetect import detect\n",
    "import copy\n",
    "from googletrans import Translator\n",
    "\n",
    "from nltk.corpus import stopwords  \n",
    "from textblob import Word\n",
    "\n",
    "import os\n",
    "import json\n",
    "\n",
    "from sklearn.feature_extraction.text import TfidfVectorizer\n",
    "#import model_evaluation_utils as meu\n",
    "from sklearn.linear_model import LogisticRegression\n",
    "from sklearn.model_selection import cross_val_score, train_test_split"
   ]
  },
  {
   "cell_type": "code",
   "execution_count": 193,
   "metadata": {},
   "outputs": [],
   "source": [
    "train = pd.read_csv(\"train.csv\")"
   ]
  },
  {
   "cell_type": "code",
   "execution_count": 194,
   "metadata": {},
   "outputs": [
    {
     "data": {
      "text/html": [
       "<div>\n",
       "<style scoped>\n",
       "    .dataframe tbody tr th:only-of-type {\n",
       "        vertical-align: middle;\n",
       "    }\n",
       "\n",
       "    .dataframe tbody tr th {\n",
       "        vertical-align: top;\n",
       "    }\n",
       "\n",
       "    .dataframe thead th {\n",
       "        text-align: right;\n",
       "    }\n",
       "</style>\n",
       "<table border=\"1\" class=\"dataframe\">\n",
       "  <thead>\n",
       "    <tr style=\"text-align: right;\">\n",
       "      <th></th>\n",
       "      <th>Type</th>\n",
       "      <th>Name</th>\n",
       "      <th>Age</th>\n",
       "      <th>Breed1</th>\n",
       "      <th>Breed2</th>\n",
       "      <th>Gender</th>\n",
       "      <th>Color1</th>\n",
       "      <th>Color2</th>\n",
       "      <th>Color3</th>\n",
       "      <th>MaturitySize</th>\n",
       "      <th>...</th>\n",
       "      <th>Health</th>\n",
       "      <th>Quantity</th>\n",
       "      <th>Fee</th>\n",
       "      <th>State</th>\n",
       "      <th>RescuerID</th>\n",
       "      <th>VideoAmt</th>\n",
       "      <th>Description</th>\n",
       "      <th>PetID</th>\n",
       "      <th>PhotoAmt</th>\n",
       "      <th>AdoptionSpeed</th>\n",
       "    </tr>\n",
       "  </thead>\n",
       "  <tbody>\n",
       "    <tr>\n",
       "      <th>0</th>\n",
       "      <td>2</td>\n",
       "      <td>Nibble</td>\n",
       "      <td>3</td>\n",
       "      <td>299</td>\n",
       "      <td>0</td>\n",
       "      <td>1</td>\n",
       "      <td>1</td>\n",
       "      <td>7</td>\n",
       "      <td>0</td>\n",
       "      <td>1</td>\n",
       "      <td>...</td>\n",
       "      <td>1</td>\n",
       "      <td>1</td>\n",
       "      <td>100</td>\n",
       "      <td>41326</td>\n",
       "      <td>8480853f516546f6cf33aa88cd76c379</td>\n",
       "      <td>0</td>\n",
       "      <td>Nibble is a 3+ month old ball of cuteness. He ...</td>\n",
       "      <td>86e1089a3</td>\n",
       "      <td>1.0</td>\n",
       "      <td>2</td>\n",
       "    </tr>\n",
       "    <tr>\n",
       "      <th>1</th>\n",
       "      <td>2</td>\n",
       "      <td>No Name Yet</td>\n",
       "      <td>1</td>\n",
       "      <td>265</td>\n",
       "      <td>0</td>\n",
       "      <td>1</td>\n",
       "      <td>1</td>\n",
       "      <td>2</td>\n",
       "      <td>0</td>\n",
       "      <td>2</td>\n",
       "      <td>...</td>\n",
       "      <td>1</td>\n",
       "      <td>1</td>\n",
       "      <td>0</td>\n",
       "      <td>41401</td>\n",
       "      <td>3082c7125d8fb66f7dd4bff4192c8b14</td>\n",
       "      <td>0</td>\n",
       "      <td>I just found it alone yesterday near my apartm...</td>\n",
       "      <td>6296e909a</td>\n",
       "      <td>2.0</td>\n",
       "      <td>0</td>\n",
       "    </tr>\n",
       "  </tbody>\n",
       "</table>\n",
       "<p>2 rows × 24 columns</p>\n",
       "</div>"
      ],
      "text/plain": [
       "   Type         Name  Age  Breed1  Breed2  Gender  Color1  Color2  Color3  \\\n",
       "0     2       Nibble    3     299       0       1       1       7       0   \n",
       "1     2  No Name Yet    1     265       0       1       1       2       0   \n",
       "\n",
       "   MaturitySize      ...        Health  Quantity  Fee  State  \\\n",
       "0             1      ...             1         1  100  41326   \n",
       "1             2      ...             1         1    0  41401   \n",
       "\n",
       "                          RescuerID  VideoAmt  \\\n",
       "0  8480853f516546f6cf33aa88cd76c379         0   \n",
       "1  3082c7125d8fb66f7dd4bff4192c8b14         0   \n",
       "\n",
       "                                         Description      PetID PhotoAmt  \\\n",
       "0  Nibble is a 3+ month old ball of cuteness. He ...  86e1089a3      1.0   \n",
       "1  I just found it alone yesterday near my apartm...  6296e909a      2.0   \n",
       "\n",
       "   AdoptionSpeed  \n",
       "0              2  \n",
       "1              0  \n",
       "\n",
       "[2 rows x 24 columns]"
      ]
     },
     "execution_count": 194,
     "metadata": {},
     "output_type": "execute_result"
    }
   ],
   "source": [
    "train.head(2)"
   ]
  },
  {
   "cell_type": "markdown",
   "metadata": {},
   "source": [
    "### Change categorical data to categorical data type"
   ]
  },
  {
   "cell_type": "markdown",
   "metadata": {},
   "source": [
    "### Check target column's distribution\n",
    "0 - Pet was adopted on the same day as it was listed. \n",
    "\n",
    "1 - Pet was adopted between 1 and 7 days (1st week) after being listed. \n",
    "\n",
    "2 - Pet was adopted between 8 and 30 days (1st month) after being listed. \n",
    "\n",
    "3 - Pet was adopted between 31 and 90 days (2nd & 3rd month) after being listed. \n",
    "\n",
    "4 - No adoption after 100 days of being listed. (There are no pets in this dataset that waited between 90 and 100 days)."
   ]
  },
  {
   "cell_type": "code",
   "execution_count": 195,
   "metadata": {},
   "outputs": [
    {
     "data": {
      "text/plain": [
       "<matplotlib.axes._subplots.AxesSubplot at 0x12049a630>"
      ]
     },
     "execution_count": 195,
     "metadata": {},
     "output_type": "execute_result"
    },
    {
     "data": {
      "image/png": "[encoded data removed]",
      "text/plain": [
       "<Figure size 432x288 with 1 Axes>"
      ]
     },
     "metadata": {
      "needs_background": "light"
     },
     "output_type": "display_data"
    }
   ],
   "source": [
    "train['AdoptionSpeed'].value_counts().plot(kind='bar')"
   ]
  },
  {
   "cell_type": "code",
   "execution_count": 196,
   "metadata": {},
   "outputs": [
    {
     "data": {
      "text/plain": [
       "4    4197\n",
       "2    4037\n",
       "3    3259\n",
       "1    3090\n",
       "0     410\n",
       "Name: AdoptionSpeed, dtype: int64"
      ]
     },
     "execution_count": 196,
     "metadata": {},
     "output_type": "execute_result"
    }
   ],
   "source": [
    "train.AdoptionSpeed.value_counts()"
   ]
  },
  {
   "cell_type": "markdown",
   "metadata": {},
   "source": [
    "### Check Type column's distribution\n",
    "1 = Dog, 2 = Cat"
   ]
  },
  {
   "cell_type": "code",
   "execution_count": 197,
   "metadata": {},
   "outputs": [
    {
     "data": {
      "text/plain": [
       "<matplotlib.axes._subplots.AxesSubplot at 0x11fdcfda0>"
      ]
     },
     "execution_count": 197,
     "metadata": {},
     "output_type": "execute_result"
    },
    {
     "data": {
      "image/png": "[encoded data removed]",
      "text/plain": [
       "<Figure size 432x288 with 1 Axes>"
      ]
     },
     "metadata": {
      "needs_background": "light"
     },
     "output_type": "display_data"
    }
   ],
   "source": [
    "train.Type.value_counts().plot(kind='bar')"
   ]
  },
  {
   "cell_type": "code",
   "execution_count": 198,
   "metadata": {},
   "outputs": [
    {
     "data": {
      "text/plain": [
       "1    8132\n",
       "2    6861\n",
       "Name: Type, dtype: int64"
      ]
     },
     "execution_count": 198,
     "metadata": {},
     "output_type": "execute_result"
    }
   ],
   "source": [
    "train.Type.value_counts()"
   ]
  },
  {
   "cell_type": "markdown",
   "metadata": {},
   "source": [
    "### Check PhotoAmt column's distribution"
   ]
  },
  {
   "cell_type": "code",
   "execution_count": 199,
   "metadata": {
    "scrolled": true
   },
   "outputs": [
    {
     "data": {
      "text/plain": [
       "<matplotlib.axes._subplots.AxesSubplot at 0x1204d0b00>"
      ]
     },
     "execution_count": 199,
     "metadata": {},
     "output_type": "execute_result"
    },
    {
     "data": {
      "image/png": "[encoded data removed]",
      "text/plain": [
       "<Figure size 432x288 with 1 Axes>"
      ]
     },
     "metadata": {
      "needs_background": "light"
     },
     "output_type": "display_data"
    }
   ],
   "source": [
    "train.PhotoAmt.value_counts().plot(kind='bar')"
   ]
  },
  {
   "cell_type": "code",
   "execution_count": 200,
   "metadata": {},
   "outputs": [
    {
     "data": {
      "text/plain": [
       "1.0     3075\n",
       "2.0     2518\n",
       "3.0     2511\n",
       "5.0     2147\n",
       "4.0     1881\n",
       "6.0      621\n",
       "7.0      432\n",
       "0.0      341\n",
       "8.0      314\n",
       "9.0      231\n",
       "10.0     190\n",
       "11.0     184\n",
       "12.0      97\n",
       "13.0      86\n",
       "14.0      78\n",
       "15.0      50\n",
       "16.0      39\n",
       "17.0      27\n",
       "20.0      25\n",
       "19.0      20\n",
       "30.0      19\n",
       "18.0      18\n",
       "21.0      16\n",
       "24.0      15\n",
       "23.0      12\n",
       "26.0      10\n",
       "22.0       9\n",
       "25.0       8\n",
       "28.0       7\n",
       "27.0       6\n",
       "29.0       6\n",
       "Name: PhotoAmt, dtype: int64"
      ]
     },
     "execution_count": 200,
     "metadata": {},
     "output_type": "execute_result"
    }
   ],
   "source": [
    "train.PhotoAmt.value_counts()"
   ]
  },
  {
   "cell_type": "markdown",
   "metadata": {},
   "source": [
    "### Check VideoAmt column's distribution"
   ]
  },
  {
   "cell_type": "code",
   "execution_count": 201,
   "metadata": {},
   "outputs": [
    {
     "data": {
      "text/plain": [
       "<matplotlib.axes._subplots.AxesSubplot at 0x12059e898>"
      ]
     },
     "execution_count": 201,
     "metadata": {},
     "output_type": "execute_result"
    },
    {
     "data": {
      "image/png": "[encoded data removed]",
      "text/plain": [
       "<Figure size 432x288 with 1 Axes>"
      ]
     },
     "metadata": {
      "needs_background": "light"
     },
     "output_type": "display_data"
    }
   ],
   "source": [
    "train.VideoAmt.value_counts().plot(kind='bar')"
   ]
  },
  {
   "cell_type": "code",
   "execution_count": 202,
   "metadata": {},
   "outputs": [
    {
     "data": {
      "text/plain": [
       "0    14419\n",
       "1      417\n",
       "2       92\n",
       "3       36\n",
       "4       15\n",
       "5        7\n",
       "6        4\n",
       "8        2\n",
       "7        1\n",
       "Name: VideoAmt, dtype: int64"
      ]
     },
     "execution_count": 202,
     "metadata": {},
     "output_type": "execute_result"
    }
   ],
   "source": [
    "train.VideoAmt.value_counts()"
   ]
  },
  {
   "cell_type": "markdown",
   "metadata": {},
   "source": [
    "### Check Quantity column's distribution¶"
   ]
  },
  {
   "cell_type": "code",
   "execution_count": 203,
   "metadata": {},
   "outputs": [
    {
     "data": {
      "text/plain": [
       "<matplotlib.axes._subplots.AxesSubplot at 0x11fe157b8>"
      ]
     },
     "execution_count": 203,
     "metadata": {},
     "output_type": "execute_result"
    },
    {
     "data": {
      "image/png": "[encoded data removed]",
      "text/plain": [
       "<Figure size 432x288 with 1 Axes>"
      ]
     },
     "metadata": {
      "needs_background": "light"
     },
     "output_type": "display_data"
    }
   ],
   "source": [
    "train.Quantity.value_counts().plot(kind='bar')"
   ]
  },
  {
   "cell_type": "markdown",
   "metadata": {},
   "source": [
    "### Check State column's distribution\n",
    "41326: Selangor \n",
    "\n",
    "\"Selangor surrounds the federal territories of Kuala Lumpur and Putrajaya, both of which were previously part of it.\"\n",
    "\"It is the most developed state in Malaysia; it has good infrastructure such as highways and transport, and has the largest population in Malaysia, a high standard of living and the lowest poverty rate in the country.\" \n",
    "Reference: https://en.wikipedia.org/wiki/Selangor\n",
    "\n",
    "41401: Kuala Lumpur\n",
    "\n",
    "It is the national capital and \"largest city in Malaysia\".\n",
    "Reference: https://en.wikipedia.org/wiki/Kuala_Lumpur"
   ]
  },
  {
   "cell_type": "code",
   "execution_count": 204,
   "metadata": {},
   "outputs": [
    {
     "data": {
      "text/plain": [
       "<matplotlib.axes._subplots.AxesSubplot at 0x12060ca20>"
      ]
     },
     "execution_count": 204,
     "metadata": {},
     "output_type": "execute_result"
    },
    {
     "data": {
      "image/png": "[encoded data removed]",
      "text/plain": [
       "<Figure size 432x288 with 1 Axes>"
      ]
     },
     "metadata": {
      "needs_background": "light"
     },
     "output_type": "display_data"
    }
   ],
   "source": [
    "train.State.value_counts().plot(kind='bar')"
   ]
  },
  {
   "cell_type": "markdown",
   "metadata": {},
   "source": [
    "### Check missing value in \"train\" table"
   ]
  },
  {
   "cell_type": "code",
   "execution_count": 205,
   "metadata": {},
   "outputs": [
    {
     "data": {
      "text/plain": [
       "Type                0\n",
       "Name             1257\n",
       "Age                 0\n",
       "Breed1              0\n",
       "Breed2              0\n",
       "Gender              0\n",
       "Color1              0\n",
       "Color2              0\n",
       "Color3              0\n",
       "MaturitySize        0\n",
       "FurLength           0\n",
       "Vaccinated          0\n",
       "Dewormed            0\n",
       "Sterilized          0\n",
       "Health              0\n",
       "Quantity            0\n",
       "Fee                 0\n",
       "State               0\n",
       "RescuerID           0\n",
       "VideoAmt            0\n",
       "Description        12\n",
       "PetID               0\n",
       "PhotoAmt            0\n",
       "AdoptionSpeed       0\n",
       "dtype: int64"
      ]
     },
     "execution_count": 205,
     "metadata": {},
     "output_type": "execute_result"
    }
   ],
   "source": [
    "train.isnull().sum()"
   ]
  },
  {
   "cell_type": "markdown",
   "metadata": {},
   "source": [
    "## 3.2 Treatment of \"Description\" (Text) Feature, Create 2 Features \"desc_lang\" and \"desc_eng\""
   ]
  },
  {
   "cell_type": "markdown",
   "metadata": {},
   "source": [
    "### 3.2.1 Description's treatment 1: replace null and \" \" with \"na\""
   ]
  },
  {
   "cell_type": "code",
   "execution_count": 206,
   "metadata": {},
   "outputs": [
    {
     "data": {
      "text/plain": [
       "(12, 24)"
      ]
     },
     "execution_count": 206,
     "metadata": {},
     "output_type": "execute_result"
    }
   ],
   "source": [
    "# there are 12 rows with Description is missing value\n",
    "train[train['Description'].isnull()].shape"
   ]
  },
  {
   "cell_type": "code",
   "execution_count": 207,
   "metadata": {},
   "outputs": [
    {
     "data": {
      "text/plain": [
       "(0, 24)"
      ]
     },
     "execution_count": 207,
     "metadata": {},
     "output_type": "execute_result"
    }
   ],
   "source": [
    "# there are 15 rows with just a space as Description\n",
    "train[train['Description']==''].shape"
   ]
  },
  {
   "cell_type": "code",
   "execution_count": 208,
   "metadata": {},
   "outputs": [],
   "source": [
    "# transform both above rows a value \"na\" as Description\n",
    "train['Description'] = np.where(train['Description']=='' , \"na\", train['Description'])\n",
    "train['Description'] = np.where(train['Description'].isnull() , \"na\", train['Description'])"
   ]
  },
  {
   "cell_type": "markdown",
   "metadata": {},
   "source": [
    "### 3.2.2 Description's treatment 2: language detection"
   ]
  },
  {
   "cell_type": "code",
   "execution_count": 209,
   "metadata": {},
   "outputs": [],
   "source": [
    "# language detection\n",
    "def try_detect(cell):\n",
    "    try:\n",
    "        detected_lang = detect(cell)\n",
    "    except:\n",
    "        detected_lang = None\n",
    "    return detected_lang\n",
    "\n",
    "text_detect = []\n",
    "\n",
    "for Description in train['Description']:\n",
    "    lang = try_detect(Description)\n",
    "    text_detect.append(lang)\n",
    "\n",
    "#print(text_detect)\n",
    "train['desc_lang'] = train.Description.apply(try_detect)"
   ]
  },
  {
   "cell_type": "markdown",
   "metadata": {},
   "source": [
    "Note: each time we run the languange detection function, the results of \"desc_lange\" may slightly differ"
   ]
  },
  {
   "cell_type": "code",
   "execution_count": 210,
   "metadata": {},
   "outputs": [
    {
     "data": {
      "text/plain": [
       "en       14114\n",
       "id         465\n",
       "da         103\n",
       "de          62\n",
       "zh-cn       34\n",
       "tl          25\n",
       "ro          23\n",
       "no          22\n",
       "af          14\n",
       "es          13\n",
       "fr          11\n",
       "so          11\n",
       "nl          11\n",
       "cy           8\n",
       "ko           8\n",
       "fi           8\n",
       "ca           7\n",
       "it           5\n",
       "pt           5\n",
       "hr           5\n",
       "sk           4\n",
       "sl           4\n",
       "zh-tw        4\n",
       "vi           3\n",
       "sv           3\n",
       "et           2\n",
       "tr           2\n",
       "sw           1\n",
       "sq           1\n",
       "Name: desc_lang, dtype: int64"
      ]
     },
     "execution_count": 210,
     "metadata": {},
     "output_type": "execute_result"
    }
   ],
   "source": [
    "train.desc_lang.value_counts()"
   ]
  },
  {
   "cell_type": "markdown",
   "metadata": {},
   "source": [
    " ### 3.2.3 Description's treatment 3: Translate non English into English, save to \"lang_eng\""
   ]
  },
  {
   "cell_type": "code",
   "execution_count": 252,
   "metadata": {},
   "outputs": [],
   "source": [
    "# Note: I don't think code in this cell is incorrect, \n",
    "# but it always gives an error \"JSONDecodeError: Expecting value: line 1 column 1 (char 0)\", due to google translation service is limited in terms of text length, etc.\n",
    "# As a way round, I splited the data into train_eng, train_noneng, and after translating the train_noneng, I combined the two datasets back into one.\n",
    "# Note that the latter way still may have error message \"ProxyError: HTTPSConnectionPool(host='translate.google.com', port=443):\".\n",
    "# In case that happens, please wait for around 2 hours and run again.\n",
    "\n",
    "\n",
    "# eng = [\"en\",\"ca\"]\n",
    "# train['desc_eng'] = np.where(train['desc_lang'].isin(eng), train[\"Description\"], train[\"Description\"].apply(translator.translate, dest='en').apply(getattr, args=('text',)))"
   ]
  },
  {
   "cell_type": "code",
   "execution_count": 253,
   "metadata": {},
   "outputs": [],
   "source": [
    "train_noneng = train[~train.desc_lang.isin(eng)]"
   ]
  },
  {
   "cell_type": "code",
   "execution_count": 254,
   "metadata": {},
   "outputs": [
    {
     "data": {
      "text/plain": [
       "(872, 25)"
      ]
     },
     "execution_count": 254,
     "metadata": {},
     "output_type": "execute_result"
    }
   ],
   "source": [
    "train_noneng.shape"
   ]
  },
  {
   "cell_type": "code",
   "execution_count": 255,
   "metadata": {},
   "outputs": [],
   "source": [
    "train_eng = train[train.desc_lang.isin(eng)]"
   ]
  },
  {
   "cell_type": "code",
   "execution_count": 257,
   "metadata": {},
   "outputs": [
    {
     "data": {
      "text/plain": [
       "(14121, 25)"
      ]
     },
     "execution_count": 257,
     "metadata": {},
     "output_type": "execute_result"
    }
   ],
   "source": [
    "train_eng.shape"
   ]
  },
  {
   "cell_type": "code",
   "execution_count": 258,
   "metadata": {},
   "outputs": [
    {
     "data": {
      "text/plain": [
       "(14993, 25)"
      ]
     },
     "execution_count": 258,
     "metadata": {},
     "output_type": "execute_result"
    }
   ],
   "source": [
    "train.shape"
   ]
  },
  {
   "cell_type": "code",
   "execution_count": 177,
   "metadata": {
    "scrolled": true
   },
   "outputs": [
    {
     "name": "stderr",
     "output_type": "stream",
     "text": [
      "/Users/zhanglingling/anaconda3/lib/python3.7/site-packages/ipykernel_launcher.py:2: SettingWithCopyWarning: \n",
      "A value is trying to be set on a copy of a slice from a DataFrame.\n",
      "Try using .loc[row_indexer,col_indexer] = value instead\n",
      "\n",
      "See the caveats in the documentation: http://pandas.pydata.org/pandas-docs/stable/indexing.html#indexing-view-versus-copy\n",
      "  \n"
     ]
    }
   ],
   "source": [
    "eng = [\"en\",\"ca\"]\n",
    "train_noneng['desc_eng'] = train_noneng[\"Description\"].apply(translator.translate,  dest='en').apply(getattr, args=('text',))"
   ]
  },
  {
   "cell_type": "code",
   "execution_count": 188,
   "metadata": {},
   "outputs": [
    {
     "name": "stderr",
     "output_type": "stream",
     "text": [
      "/Users/zhanglingling/anaconda3/lib/python3.7/site-packages/pandas/core/indexing.py:543: SettingWithCopyWarning: \n",
      "A value is trying to be set on a copy of a slice from a DataFrame.\n",
      "Try using .loc[row_indexer,col_indexer] = value instead\n",
      "\n",
      "See the caveats in the documentation: http://pandas.pydata.org/pandas-docs/stable/indexing.html#indexing-view-versus-copy\n",
      "  self.obj[item] = s\n"
     ]
    }
   ],
   "source": [
    "# Fix translation: for the 27 rows Description == 'na', they are translated to 'on', so we change it back to 'na'\n",
    "# you can take a look using below marked code\n",
    "# train_noneng[train_noneng[\"Description\"]=='na']\n",
    "\n",
    "train_noneng.loc[train_noneng[\"Description\"]=='na', 'desc_eng'] = 'na'\n",
    "\n",
    "# you can also take a look using below marked code to check the change\n",
    "# train_noneng.loc[train_noneng[\"Description\"]=='na', 'desc_eng'] "
   ]
  },
  {
   "cell_type": "code",
   "execution_count": 190,
   "metadata": {},
   "outputs": [
    {
     "name": "stderr",
     "output_type": "stream",
     "text": [
      "/Users/zhanglingling/anaconda3/lib/python3.7/site-packages/ipykernel_launcher.py:1: SettingWithCopyWarning: \n",
      "A value is trying to be set on a copy of a slice from a DataFrame.\n",
      "Try using .loc[row_indexer,col_indexer] = value instead\n",
      "\n",
      "See the caveats in the documentation: http://pandas.pydata.org/pandas-docs/stable/indexing.html#indexing-view-versus-copy\n",
      "  \"\"\"Entry point for launching an IPython kernel.\n"
     ]
    }
   ],
   "source": [
    "# for the train_eng, also need to create a new column 'desc_eng', which is the same as \"Description\".\n",
    "train_eng['desc_eng'] = train_eng[\"Description\"]"
   ]
  },
  {
   "cell_type": "code",
   "execution_count": 217,
   "metadata": {},
   "outputs": [],
   "source": [
    "# combine train_eng and train_noneng back together\n",
    "train = train_eng.append(train_noneng, ignore_index=True)"
   ]
  },
  {
   "cell_type": "code",
   "execution_count": 220,
   "metadata": {},
   "outputs": [],
   "source": [
    "train.to_csv('train_translated.csv')"
   ]
  },
  {
   "cell_type": "markdown",
   "metadata": {},
   "source": [
    "### 3.2.4 Description's treatment 4: text cleaning\n",
    "\n"
   ]
  },
  {
   "cell_type": "code",
   "execution_count": 260,
   "metadata": {},
   "outputs": [],
   "source": [
    "train = pd.read_csv('train_translated.csv')"
   ]
  },
  {
   "cell_type": "code",
   "execution_count": 234,
   "metadata": {},
   "outputs": [
    {
     "data": {
      "text/plain": [
       "0    nibble  month old ball cuteness energetic play...\n",
       "1    found alone yesterday near apartment shaking b...\n",
       "2    pregnant mother dumped irresponsible owner roa...\n",
       "3    good guard dog alert active obedience waiting ...\n",
       "4    handsome yet cute boy adoption playful pal wev...\n",
       "Name: desc_eng, dtype: object"
      ]
     },
     "execution_count": 234,
     "metadata": {},
     "output_type": "execute_result"
    }
   ],
   "source": [
    "# Turn into lower case   \n",
    "train['desc_eng'] = train['desc_eng'].apply(lambda x: \" \".join(x.lower() for x in x.split()))\n",
    "\n",
    "# Remove Punctuation \n",
    "train['desc_eng'] = train['desc_eng'].str.replace('[^\\w\\s]','')\n",
    "\n",
    "# Remove Stop Words \n",
    "stop = stopwords.words('english')\n",
    "train['desc_eng'] = train['desc_eng'].apply(lambda x:\" \".join(x for x in x.split() if x not in stop))\n",
    "\n",
    "# Lemmatization (instead of Stemming)\n",
    "train['desc_eng'] = train['desc_eng'].apply(lambda x: \" \".join([Word(word).lemmatize() for word in x.split()]))\n",
    "\n",
    "# Remove Numbers\n",
    "train['desc_eng'] = train['desc_eng'].str.replace('[0-9]', '')\n",
    "\n",
    "train['desc_eng'].head()"
   ]
  },
  {
   "cell_type": "code",
   "execution_count": 267,
   "metadata": {},
   "outputs": [],
   "source": [
    "train.to_csv('train_translated_desc.cleaned.csv')"
   ]
  },
  {
   "cell_type": "markdown",
   "metadata": {},
   "source": [
    "## 3.3 Created \"sent_score\" base on data in train_sentiment folder"
   ]
  },
  {
   "cell_type": "code",
   "execution_count": 171,
   "metadata": {},
   "outputs": [],
   "source": [
    "## merge with json\n",
    "sentiment_dict = {}\n",
    "for filename in os.listdir('train_sentiment'):\n",
    "    with open('train_sentiment/' + filename, 'r') as f:\n",
    "        sentiment = json.load(f)\n",
    "    pet_id = filename.split('.')[0]\n",
    "    sentiment_dict[pet_id] = {}\n",
    "    sentiment_dict[pet_id]['magnitude'] = sentiment['documentSentiment']['magnitude']\n",
    "    sentiment_dict[pet_id]['score'] = sentiment['documentSentiment']['score']\n",
    "    sentiment_dict[pet_id]['language'] = sentiment['language']\n",
    "\n",
    "# for filename in os.listdir('../test_sentiment/'):\n",
    "#     with open('../input/test_sentiment/' + filename, 'r') as f:\n",
    "#         sentiment = json.load(f)\n",
    "#     pet_id = filename.split('.')[0]\n",
    "#     sentiment_dict[pet_id] = {}\n",
    "#     sentiment_dict[pet_id]['magnitude'] = sentiment['documentSentiment']['magnitude']\n",
    "#     sentiment_dict[pet_id]['score'] = sentiment['documentSentiment']['score']\n",
    "#     sentiment_dict[pet_id]['language'] = sentiment['language']"
   ]
  },
  {
   "cell_type": "code",
   "execution_count": 174,
   "metadata": {},
   "outputs": [],
   "source": [
    "train['lang'] = train['PetID'].apply(lambda x: sentiment_dict[x]['language'] if x in sentiment_dict else 'no')\n",
    "train['magnitude'] = train['PetID'].apply(lambda x: sentiment_dict[x]['magnitude'] if x in sentiment_dict else 0)\n",
    "train['score'] = train['PetID'].apply(lambda x: sentiment_dict[x]['score'] if x in sentiment_dict else 0)"
   ]
  },
  {
   "cell_type": "code",
   "execution_count": 175,
   "metadata": {},
   "outputs": [
    {
     "data": {
      "text/html": [
       "<div>\n",
       "<style scoped>\n",
       "    .dataframe tbody tr th:only-of-type {\n",
       "        vertical-align: middle;\n",
       "    }\n",
       "\n",
       "    .dataframe tbody tr th {\n",
       "        vertical-align: top;\n",
       "    }\n",
       "\n",
       "    .dataframe thead th {\n",
       "        text-align: right;\n",
       "    }\n",
       "</style>\n",
       "<table border=\"1\" class=\"dataframe\">\n",
       "  <thead>\n",
       "    <tr style=\"text-align: right;\">\n",
       "      <th></th>\n",
       "      <th>Type</th>\n",
       "      <th>Name</th>\n",
       "      <th>Age</th>\n",
       "      <th>Breed1</th>\n",
       "      <th>Breed2</th>\n",
       "      <th>Gender</th>\n",
       "      <th>Color1</th>\n",
       "      <th>Color2</th>\n",
       "      <th>Color3</th>\n",
       "      <th>MaturitySize</th>\n",
       "      <th>...</th>\n",
       "      <th>VideoAmt</th>\n",
       "      <th>Description</th>\n",
       "      <th>PetID</th>\n",
       "      <th>PhotoAmt</th>\n",
       "      <th>AdoptionSpeed</th>\n",
       "      <th>desc_lang</th>\n",
       "      <th>word_count</th>\n",
       "      <th>lang</th>\n",
       "      <th>magnitude</th>\n",
       "      <th>score</th>\n",
       "    </tr>\n",
       "  </thead>\n",
       "  <tbody>\n",
       "    <tr>\n",
       "      <th>45</th>\n",
       "      <td>1</td>\n",
       "      <td>Blackie &amp; Spotty</td>\n",
       "      <td>4</td>\n",
       "      <td>307</td>\n",
       "      <td>0</td>\n",
       "      <td>1</td>\n",
       "      <td>1</td>\n",
       "      <td>7</td>\n",
       "      <td>0</td>\n",
       "      <td>2</td>\n",
       "      <td>...</td>\n",
       "      <td>0</td>\n",
       "      <td>These 2 adorable male puppies were dumped outs...</td>\n",
       "      <td>c1e816568</td>\n",
       "      <td>11.0</td>\n",
       "      <td>4</td>\n",
       "      <td>en</td>\n",
       "      <td>68</td>\n",
       "      <td>en</td>\n",
       "      <td>0.8</td>\n",
       "      <td>0.1</td>\n",
       "    </tr>\n",
       "    <tr>\n",
       "      <th>46</th>\n",
       "      <td>2</td>\n",
       "      <td>Cimpuk</td>\n",
       "      <td>5</td>\n",
       "      <td>265</td>\n",
       "      <td>0</td>\n",
       "      <td>1</td>\n",
       "      <td>4</td>\n",
       "      <td>7</td>\n",
       "      <td>0</td>\n",
       "      <td>1</td>\n",
       "      <td>...</td>\n",
       "      <td>0</td>\n",
       "      <td>He was very scared on our way back last night ...</td>\n",
       "      <td>22f6c0ac6</td>\n",
       "      <td>13.0</td>\n",
       "      <td>3</td>\n",
       "      <td>en</td>\n",
       "      <td>78</td>\n",
       "      <td>en</td>\n",
       "      <td>2.8</td>\n",
       "      <td>0.3</td>\n",
       "    </tr>\n",
       "    <tr>\n",
       "      <th>47</th>\n",
       "      <td>1</td>\n",
       "      <td>Lollipop</td>\n",
       "      <td>72</td>\n",
       "      <td>307</td>\n",
       "      <td>0</td>\n",
       "      <td>2</td>\n",
       "      <td>2</td>\n",
       "      <td>7</td>\n",
       "      <td>0</td>\n",
       "      <td>2</td>\n",
       "      <td>...</td>\n",
       "      <td>0</td>\n",
       "      <td>She is a calm gentle goodmannered friendlyloya...</td>\n",
       "      <td>ea159d8da</td>\n",
       "      <td>3.0</td>\n",
       "      <td>4</td>\n",
       "      <td>en</td>\n",
       "      <td>48</td>\n",
       "      <td>en</td>\n",
       "      <td>2.2</td>\n",
       "      <td>0.4</td>\n",
       "    </tr>\n",
       "    <tr>\n",
       "      <th>48</th>\n",
       "      <td>1</td>\n",
       "      <td>Cute Puppies</td>\n",
       "      <td>1</td>\n",
       "      <td>307</td>\n",
       "      <td>0</td>\n",
       "      <td>3</td>\n",
       "      <td>1</td>\n",
       "      <td>2</td>\n",
       "      <td>0</td>\n",
       "      <td>2</td>\n",
       "      <td>...</td>\n",
       "      <td>0</td>\n",
       "      <td>We are cute and good girls and boys We need a ...</td>\n",
       "      <td>af1035c81</td>\n",
       "      <td>3.0</td>\n",
       "      <td>3</td>\n",
       "      <td>en</td>\n",
       "      <td>26</td>\n",
       "      <td>en</td>\n",
       "      <td>1.5</td>\n",
       "      <td>0.3</td>\n",
       "    </tr>\n",
       "    <tr>\n",
       "      <th>49</th>\n",
       "      <td>2</td>\n",
       "      <td>Alang</td>\n",
       "      <td>60</td>\n",
       "      <td>264</td>\n",
       "      <td>0</td>\n",
       "      <td>1</td>\n",
       "      <td>1</td>\n",
       "      <td>2</td>\n",
       "      <td>7</td>\n",
       "      <td>3</td>\n",
       "      <td>...</td>\n",
       "      <td>0</td>\n",
       "      <td>Hi I have one long haired adult male cat for a...</td>\n",
       "      <td>0d25f084f</td>\n",
       "      <td>3.0</td>\n",
       "      <td>2</td>\n",
       "      <td>en</td>\n",
       "      <td>90</td>\n",
       "      <td>en</td>\n",
       "      <td>2.5</td>\n",
       "      <td>0.1</td>\n",
       "    </tr>\n",
       "  </tbody>\n",
       "</table>\n",
       "<p>5 rows × 29 columns</p>\n",
       "</div>"
      ],
      "text/plain": [
       "    Type              Name  Age  Breed1  Breed2  Gender  Color1  Color2  \\\n",
       "45     1  Blackie & Spotty    4     307       0       1       1       7   \n",
       "46     2            Cimpuk    5     265       0       1       4       7   \n",
       "47     1          Lollipop   72     307       0       2       2       7   \n",
       "48     1      Cute Puppies    1     307       0       3       1       2   \n",
       "49     2             Alang   60     264       0       1       1       2   \n",
       "\n",
       "    Color3  MaturitySize  ...    VideoAmt  \\\n",
       "45       0             2  ...           0   \n",
       "46       0             1  ...           0   \n",
       "47       0             2  ...           0   \n",
       "48       0             2  ...           0   \n",
       "49       7             3  ...           0   \n",
       "\n",
       "                                          Description      PetID  PhotoAmt  \\\n",
       "45  These 2 adorable male puppies were dumped outs...  c1e816568      11.0   \n",
       "46  He was very scared on our way back last night ...  22f6c0ac6      13.0   \n",
       "47  She is a calm gentle goodmannered friendlyloya...  ea159d8da       3.0   \n",
       "48  We are cute and good girls and boys We need a ...  af1035c81       3.0   \n",
       "49  Hi I have one long haired adult male cat for a...  0d25f084f       3.0   \n",
       "\n",
       "    AdoptionSpeed  desc_lang  word_count  lang magnitude  score  \n",
       "45              4         en          68    en       0.8    0.1  \n",
       "46              3         en          78    en       2.8    0.3  \n",
       "47              4         en          48    en       2.2    0.4  \n",
       "48              3         en          26    en       1.5    0.3  \n",
       "49              2         en          90    en       2.5    0.1  \n",
       "\n",
       "[5 rows x 29 columns]"
      ]
     },
     "execution_count": 175,
     "metadata": {},
     "output_type": "execute_result"
    }
   ],
   "source": [
    "train[45:50]"
   ]
  },
  {
   "cell_type": "code",
   "execution_count": 176,
   "metadata": {},
   "outputs": [
    {
     "data": {
      "text/plain": [
       "en         14309\n",
       "no           551\n",
       "zh            95\n",
       "zh-Hant       36\n",
       "de             2\n",
       "Name: lang, dtype: int64"
      ]
     },
     "execution_count": 176,
     "metadata": {},
     "output_type": "execute_result"
    }
   ],
   "source": [
    "# compare the 'lang' column produced by Google NLP API with the langdetect package we used. \n",
    "train.lang.value_counts()"
   ]
  },
  {
   "cell_type": "code",
   "execution_count": 178,
   "metadata": {},
   "outputs": [
    {
     "data": {
      "text/plain": [
       "<matplotlib.axes._subplots.AxesSubplot at 0x118d0e6d8>"
      ]
     },
     "execution_count": 178,
     "metadata": {},
     "output_type": "execute_result"
    },
    {
     "data": {
      "image/png": "[encoded data removed]",
      "text/plain": [
       "<Figure size 432x288 with 1 Axes>"
      ]
     },
     "metadata": {
      "needs_background": "light"
     },
     "output_type": "display_data"
    }
   ],
   "source": [
    "train.score.value_counts().plot(kind='bar')"
   ]
  },
  {
   "cell_type": "markdown",
   "metadata": {},
   "source": [
    "## 3.4 Treatment of \"Name\" (Text) Feature and creating 3 new features"
   ]
  },
  {
   "cell_type": "markdown",
   "metadata": {},
   "source": [
    "### 3.4.1 Name treatment 1:  Change \"No name\" \"no name yet\", \"unknown\", missing value to \"no specific name\""
   ]
  },
  {
   "cell_type": "code",
   "execution_count": null,
   "metadata": {},
   "outputs": [],
   "source": [
    "## code"
   ]
  },
  {
   "cell_type": "markdown",
   "metadata": {},
   "source": [
    "### 3.4.2 Name treatment 2: language detection and creating 1 feature \"name_lang\""
   ]
  },
  {
   "cell_type": "code",
   "execution_count": 5,
   "metadata": {},
   "outputs": [],
   "source": [
    "def try_detect(cell):\n",
    "    try:\n",
    "        detected_lang = detect(cell)\n",
    "    except:\n",
    "        detected_lang = None\n",
    "    return detected_lang\n",
    "\n",
    "text_detect = []\n",
    "\n",
    "for Name in train['Name']:\n",
    "    lang = try_detect(Name)\n",
    "    text_detect.append(lang)\n",
    "\n",
    "#print(text_detect)\n",
    "train['name_lang'] = train.Name.apply(try_detect)"
   ]
  },
  {
   "cell_type": "code",
   "execution_count": 6,
   "metadata": {},
   "outputs": [
    {
     "data": {
      "text/plain": [
       "en    2931\n",
       "de    1630\n",
       "tl     860\n",
       "sw     762\n",
       "fi     719\n",
       "id     711\n",
       "pl     612\n",
       "cy     571\n",
       "it     483\n",
       "af     418\n",
       "so     389\n",
       "tr     364\n",
       "ro     348\n",
       "pt     336\n",
       "nl     273\n",
       "fr     250\n",
       "no     242\n",
       "cs     214\n",
       "da     183\n",
       "es     173\n",
       "ca     170\n",
       "sv     159\n",
       "vi     157\n",
       "lt     157\n",
       "hr     119\n",
       "et     104\n",
       "sq     100\n",
       "hu      98\n",
       "sk      86\n",
       "sl      76\n",
       "lv      12\n",
       "Name: language_name, dtype: int64"
      ]
     },
     "execution_count": 6,
     "metadata": {},
     "output_type": "execute_result"
    }
   ],
   "source": [
    "train.name_lang.value_counts()"
   ]
  },
  {
   "cell_type": "markdown",
   "metadata": {},
   "source": [
    "### 3.4.3 Name treatment 3:  Removing punctuation, to lower case and creating 1 feature \"name_freq\""
   ]
  },
  {
   "cell_type": "code",
   "execution_count": 13,
   "metadata": {},
   "outputs": [
    {
     "data": {
      "text/plain": [
       "Baby                          66\n",
       "Lucky                         64\n",
       "No Name                       54\n",
       "Brownie                       54\n",
       "Mimi                          52\n",
       "Blackie                       49\n",
       "Puppy                         45\n",
       "Kittens                       39\n",
       "Max                           39\n",
       "Kitty                         39\n",
       "Oreo                          36\n",
       "Coco                          35\n",
       "Tiger                         34\n",
       "Angel                         33\n",
       "Milo                          32\n",
       "Bobby                         30\n",
       "Snowy                         30\n",
       "Lucy                          29\n",
       "Kiki                          29\n",
       "Lily                          28\n",
       "Tom                           27\n",
       "Ginger                        26\n",
       "Puppies                       26\n",
       "Happy                         25\n",
       "Prince                        25\n",
       "Daisy                         24\n",
       "Rocky                         23\n",
       "Simba                         23\n",
       "Kitten                        23\n",
       "Bella                         23\n",
       "                              ..\n",
       "Citus                          1\n",
       "Mama N 5 Kitties               1\n",
       "LULU                           1\n",
       "Punch                          1\n",
       "Lovely Happy Puppies :))       1\n",
       "Milky And Coffie               1\n",
       "BRONZE                         1\n",
       "..no More Inquiry Pl           1\n",
       "Chip & Dale                    1\n",
       "Sweet Apple                    1\n",
       "Diesel                         1\n",
       "Labrador Mix                   1\n",
       "Caesar & Kirbie                1\n",
       "Ruff                           1\n",
       "Reo                            1\n",
       "Wolfie-cate                    1\n",
       "Little Alex The Cheras         1\n",
       "Kitten For Adoption! 1         1\n",
       "â¥ ..Khaleesi.. â¥           1\n",
       "Mixed Breed Rottweiler Boy     1\n",
       "Johan                          1\n",
       "Black Snowshoe                 1\n",
       "Cik Oren                       1\n",
       "Zuzu                           1\n",
       "Miff                           1\n",
       "Mummies                        1\n",
       "Drogba                         1\n",
       "Cute N Loving                  1\n",
       "Luckybrown2016                 1\n",
       "2 Month Old Kitten             1\n",
       "Name: Name, Length: 9060, dtype: int64"
      ]
     },
     "execution_count": 13,
     "metadata": {},
     "output_type": "execute_result"
    }
   ],
   "source": [
    "train.Name.value_counts()"
   ]
  },
  {
   "cell_type": "code",
   "execution_count": 14,
   "metadata": {},
   "outputs": [],
   "source": [
    "## code"
   ]
  },
  {
   "cell_type": "markdown",
   "metadata": {},
   "source": [
    "## 3.5 Create 1 feature \"video_binary\" based on whether there is video or not"
   ]
  },
  {
   "cell_type": "code",
   "execution_count": null,
   "metadata": {},
   "outputs": [],
   "source": [
    "## code"
   ]
  },
  {
   "cell_type": "markdown",
   "metadata": {},
   "source": [
    "## 3.6 Create 1 feature \"quantity_one_binary\" based on whether the quantity is one or not"
   ]
  },
  {
   "cell_type": "code",
   "execution_count": null,
   "metadata": {},
   "outputs": [],
   "source": [
    "## code"
   ]
  },
  {
   "cell_type": "markdown",
   "metadata": {},
   "source": [
    "## 4. Feature Selection\n",
    "\n",
    "To do elbow plot on structured data here"
   ]
  },
  {
   "cell_type": "markdown",
   "metadata": {},
   "source": [
    "## 5. Model "
   ]
  },
  {
   "cell_type": "markdown",
   "metadata": {},
   "source": [
    "## 5.1: Description vs Target"
   ]
  },
  {
   "cell_type": "markdown",
   "metadata": {},
   "source": [
    "First, we investigated how well the Description feature can predict the target. We split the train data provided by the competition into train/test sets, used TF-IDF feature engineering and Logistic Regression algorithm. We got about 39% accuracy. Results hits that when target == 0, the prediction is not very well. We assume that if we do up-sampling to the categories that are underrepresentated in the target, the performance may improve. Therefore, we assume that using the Description feature to generate a model and use the predictions as the features of the first layer of our stacking model could be foreseeable way."
   ]
  },
  {
   "cell_type": "code",
   "execution_count": 248,
   "metadata": {},
   "outputs": [],
   "source": [
    "train = pd.read_csv('train_translated_desc.cleaned.csv')\n",
    "train_desc, test_desc, train_speed, test_speed = train_test_split(train['desc_eng'], train['AdoptionSpeed'],\n",
    "                                                   test_size=0.2,\n",
    "                                                   random_state=1,\n",
    "                                                   stratify=train['AdoptionSpeed'])"
   ]
  },
  {
   "cell_type": "code",
   "execution_count": 249,
   "metadata": {},
   "outputs": [
    {
     "name": "stdout",
     "output_type": "stream",
     "text": [
      "TFIDF model:> Train features shape: (11994, 201545)  Test features shape: (2999, 201545)\n"
     ]
    }
   ],
   "source": [
    "tv = TfidfVectorizer(use_idf=True, min_df=0.0, max_df=1.0, ngram_range=(1,2),\n",
    "                     sublinear_tf=True)\n",
    "tv_train_features = tv.fit_transform(train_desc)\n",
    "tv_test_features = tv.transform(test_desc)\n",
    "print('TFIDF model:> Train features shape:', tv_train_features.shape, ' Test features shape:', tv_test_features.shape)\n"
   ]
  },
  {
   "cell_type": "code",
   "execution_count": 250,
   "metadata": {},
   "outputs": [
    {
     "name": "stderr",
     "output_type": "stream",
     "text": [
      "/Users/zhanglingling/anaconda3/lib/python3.7/site-packages/sklearn/linear_model/logistic.py:433: FutureWarning: Default solver will be changed to 'lbfgs' in 0.22. Specify a solver to silence this warning.\n",
      "  FutureWarning)\n",
      "/Users/zhanglingling/anaconda3/lib/python3.7/site-packages/sklearn/linear_model/logistic.py:460: FutureWarning: Default multi_class will be changed to 'auto' in 0.22. Specify the multi_class option to silence this warning.\n",
      "  \"this warning.\", FutureWarning)\n"
     ]
    },
    {
     "name": "stdout",
     "output_type": "stream",
     "text": [
      "Model Performance metrics:\n",
      "------------------------------\n",
      "Accuracy: 0.3921\n",
      "Precision: 0.3921\n",
      "Recall: 0.3921\n",
      "F1 Score: 0.369\n",
      "\n",
      "Model Classification report:\n",
      "------------------------------\n",
      "              precision    recall  f1-score   support\n",
      "\n",
      "           0       0.67      0.02      0.05        82\n",
      "           1       0.35      0.19      0.25       618\n",
      "           2       0.35      0.41      0.37       807\n",
      "           3       0.40      0.27      0.32       652\n",
      "           4       0.43      0.66      0.52       840\n",
      "\n",
      "   micro avg       0.39      0.39      0.39      2999\n",
      "   macro avg       0.44      0.31      0.30      2999\n",
      "weighted avg       0.39      0.39      0.37      2999\n",
      "\n",
      "\n",
      "Prediction Confusion Matrix:\n",
      "------------------------------\n",
      "          Predicted:                    \n",
      "                   0    1    2    3    4\n",
      "Actual: 0          2   15   25    7   33\n",
      "        1          0  117  205   71  225\n",
      "        2          0   88  328  137  254\n",
      "        3          1   58  203  176  214\n",
      "        4          0   53  182   52  553\n"
     ]
    }
   ],
   "source": [
    "lr_tfidf_predictions = meu.train_predict_model(classifier=lr, \n",
    "                                               train_features=tv_train_features, train_labels=train_speed,\n",
    "                                               test_features=tv_test_features, test_labels=test_speed)\n",
    "\n",
    "meu.display_model_performance_metrics(true_labels=test_speed, predicted_labels=lr_tfidf_predictions,\n",
    "                                      classes=[0,1,2,3,4])"
   ]
  },
  {
   "cell_type": "code",
   "execution_count": null,
   "metadata": {},
   "outputs": [],
   "source": []
  }
 ],
 "metadata": {
  "kernelspec": {
   "display_name": "Python 3",
   "language": "python",
   "name": "python3"
  },
  "language_info": {
   "codemirror_mode": {
    "name": "ipython",
    "version": 3
   },
   "file_extension": ".py",
   "mimetype": "text/x-python",
   "name": "python",
   "nbconvert_exporter": "python",
   "pygments_lexer": "ipython3",
   "version": "3.6.8"
  }
 },
 "nbformat": 4,
 "nbformat_minor": 2
}
